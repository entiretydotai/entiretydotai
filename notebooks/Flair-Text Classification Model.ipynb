{
 "cells": [
  {
   "cell_type": "code",
   "execution_count": 1,
   "metadata": {},
   "outputs": [],
   "source": [
    "import sys\n",
    "sys.path.append(\"..\")"
   ]
  },
  {
   "cell_type": "code",
   "execution_count": 2,
   "metadata": {},
   "outputs": [],
   "source": [
    "import numpy as np\n",
    "import pandas as pd\n",
    "from src import FlairDataset\n",
    "from sklearn.metrics import confusion_matrix\n",
    "import matplotlib.pyplot as plt\n",
    "import seaborn as sns\n",
    "%matplotlib inline"
   ]
  },
  {
   "cell_type": "code",
   "execution_count": 3,
   "metadata": {},
   "outputs": [],
   "source": [
    "path = \"../data/external/real_fake_disaster/\""
   ]
  },
  {
   "cell_type": "markdown",
   "metadata": {},
   "source": [
    "## Load the dataset\n",
    "\n",
    "1. Give the path for the data\n",
    "2. Give the filename of the data\n",
    "3. Label the column names for (text,target)"
   ]
  },
  {
   "cell_type": "code",
   "execution_count": 4,
   "metadata": {},
   "outputs": [
    {
     "name": "stdout",
     "output_type": "stream",
     "text": [
      "2020-04-03 00:59:59,117 entiretydotai DEBUG Found directory : /home/uv/Documents/meetup(in_progress)/entiretydotai/data/external/real_fake_disaster\n",
      "2020-04-03 00:59:59,119 entiretydotai DEBUG Number of files found 1\n",
      "2020-04-03 00:59:59,119 entiretydotai DEBUG Found 1 file : data.csv\n",
      "2020-04-03 00:59:59,120 entiretydotai DEBUG Setting train_val_test_split_flag to True\n",
      "2020-04-03 00:59:59,123 entiretydotai DEBUG [sel_column_label] : Ran with args: (PosixPath('/home/uv/Documents/meetup(in_progress)/entiretydotai/data/external/real_fake_disaster/data.csv'), ['text', 'label'], ['text', 'label']), and kwargs: {}\n",
      "2020-04-03 00:59:59,154 entiretydotai DEBUG [sel_column_label] ran in: 0.02989959716796875 sec\n",
      "2020-04-03 00:59:59,155 entiretydotai DEBUG [column_name_map] {3: 'text', 4: 'label'}\n",
      "2020-04-03 00:59:59,182 entiretydotai DEBUG NUmber of rows in the dataset: 7613\n",
      "2020-04-03 00:59:59,183 entiretydotai DEBUG Index(['id', 'keyword', 'location', 'text', 'label'], dtype='object')\n",
      "2020-04-03 00:59:59,184 entiretydotai DEBUG NUmber of rows in train dataset: 6165\n",
      "2020-04-03 00:59:59,185 entiretydotai DEBUG NUmber of rows in valid dataset: 686\n",
      "2020-04-03 00:59:59,186 entiretydotai DEBUG NUmber of rows in test dataset: 762\n",
      "2020-04-03 00:59:59,187 entiretydotai DEBUG [train_val_test_split] ran in: 0.03154492378234863 sec\n",
      "2020-04-03 00:59:59,245 entiretydotai DEBUG Successfully saved train at : /home/uv/Documents/meetup(in_progress)/entiretydotai/data/interim\n",
      "2020-04-03 00:59:59,247 entiretydotai DEBUG [save_csv] ran in: 0.05808520317077637 sec\n",
      "2020-04-03 00:59:59,256 entiretydotai DEBUG Successfully saved valid at : /home/uv/Documents/meetup(in_progress)/entiretydotai/data/interim\n",
      "2020-04-03 00:59:59,258 entiretydotai DEBUG [save_csv] ran in: 0.01041865348815918 sec\n",
      "2020-04-03 00:59:59,266 entiretydotai DEBUG Successfully saved test at : /home/uv/Documents/meetup(in_progress)/entiretydotai/data/interim\n",
      "2020-04-03 00:59:59,267 entiretydotai DEBUG [save_csv] ran in: 0.008207559585571289 sec\n",
      "2020-04-03 00:59:59,269 entiretydotai DEBUG Loading data in Flair CSV ClassificationCorpus from path :/home/uv/Documents/meetup(in_progress)/entiretydotai/data/interim\n",
      "2020-04-03 00:59:59,270 Reading data from /home/uv/Documents/meetup(in_progress)/entiretydotai/data/interim\n",
      "2020-04-03 00:59:59,271 Train: /home/uv/Documents/meetup(in_progress)/entiretydotai/data/interim/train.csv\n",
      "2020-04-03 00:59:59,273 Dev: /home/uv/Documents/meetup(in_progress)/entiretydotai/data/interim/valid.csv\n",
      "2020-04-03 00:59:59,274 Test: /home/uv/Documents/meetup(in_progress)/entiretydotai/data/interim/test.csv\n",
      "2020-04-03 00:59:59,324 entiretydotai DEBUG Number of Sentences loaded[Train]:6166\n",
      "2020-04-03 00:59:59,326 entiretydotai DEBUG Type of tokenizer:segtok_tokenizer\n",
      "2020-04-03 00:59:59,329 entiretydotai DEBUG Sample sentence and Label from [Train]:Sentence: \"@ AshGhebranious civil rights continued in the 60s . And what about trans-generational trauma ? if anything we should listen to the Americans .\" - 24 Tokens - Labels: [0 (1.0)] \n",
      "\n",
      "2020-04-03 00:59:59,331 entiretydotai DEBUG Number of Sentences loaded[Valid]:687\n",
      "2020-04-03 00:59:59,332 entiretydotai DEBUG Type of tokenizer:segtok_tokenizer\n",
      "2020-04-03 00:59:59,334 entiretydotai DEBUG Sample sentence and Label from [Train]:Sentence: \"Still no plans ? Do n't worry we got you covered . Plenty of Seismic IPA and Seismic Squeeze Radler to help ... http :// t.co / A8nMdkd3rV\" - 28 Tokens - Labels: [0 (1.0)] \n",
      "\n",
      "2020-04-03 00:59:59,336 entiretydotai DEBUG Number of Sentences loaded[Test]:763\n",
      "2020-04-03 00:59:59,337 entiretydotai DEBUG Type of tokenizer:segtok_tokenizer\n",
      "2020-04-03 00:59:59,340 entiretydotai DEBUG Sample sentence and Label from [Train]:Sentence: \"300000 Dead 1200000 injured 11000000 Displaced this is # Syria 2015 visit http :// t.co / prCI76hOwu # US # Canada http :// t.co / rTCuFaG0au\" - 26 Tokens - Labels: [1 (1.0)] \n",
      "\n"
     ]
    }
   ],
   "source": [
    "dataset = FlairDataset.csv_classification(data_folder=path,filename='data',column_mapping=['text','label'])"
   ]
  },
  {
   "cell_type": "code",
   "execution_count": 5,
   "metadata": {},
   "outputs": [
    {
     "data": {
      "text/plain": [
       "{3: 'text', 4: 'label'}"
      ]
     },
     "execution_count": 5,
     "metadata": {},
     "output_type": "execute_result"
    }
   ],
   "source": [
    "dataset.column_name_map"
   ]
  },
  {
   "cell_type": "markdown",
   "metadata": {},
   "source": [
    "### Dataset is split using Stratified Sampling.Hence the class distribution will similar in train,valid,test dataset"
   ]
  },
  {
   "cell_type": "code",
   "execution_count": 6,
   "metadata": {},
   "outputs": [
    {
     "data": {
      "text/plain": [
       "0    0.569971\n",
       "1    0.430029\n",
       "Name: label, dtype: float64"
      ]
     },
     "execution_count": 6,
     "metadata": {},
     "output_type": "execute_result"
    }
   ],
   "source": [
    "dataset.valid_data.label.value_counts()/len(dataset.valid_data)"
   ]
  },
  {
   "cell_type": "code",
   "execution_count": 7,
   "metadata": {},
   "outputs": [
    {
     "data": {
      "text/plain": [
       "0    0.570866\n",
       "1    0.429134\n",
       "Name: label, dtype: float64"
      ]
     },
     "execution_count": 7,
     "metadata": {},
     "output_type": "execute_result"
    }
   ],
   "source": [
    "dataset.test_data.label.value_counts()/len(dataset.test_data)"
   ]
  },
  {
   "cell_type": "markdown",
   "metadata": {},
   "source": [
    "### Load the word Embeddings\n",
    "\n",
    "1. Avaliable options\n",
    "    [Flair Embeddings](https://github.com/flairNLP/flair/blob/master/resources/docs/TUTORIAL_4_ELMO_BERT_FLAIR_EMBEDDING.md)"
   ]
  },
  {
   "cell_type": "code",
   "execution_count": 8,
   "metadata": {},
   "outputs": [],
   "source": [
    "from flair.embeddings import WordEmbeddings, FlairEmbeddings,DocumentRNNEmbeddings\n",
    "from flair.models import TextClassifier"
   ]
  },
  {
   "cell_type": "code",
   "execution_count": 9,
   "metadata": {},
   "outputs": [],
   "source": [
    "word_embeddings = [WordEmbeddings('glove')]"
   ]
  },
  {
   "cell_type": "code",
   "execution_count": 10,
   "metadata": {},
   "outputs": [],
   "source": [
    "DocumentRNNEmbeddings = DocumentRNNEmbeddings(word_embeddings,\n",
    "                                                             hidden_size=512,\n",
    "                                                             reproject_words=True,\n",
    "                                                             reproject_words_dimension=256)"
   ]
  },
  {
   "cell_type": "code",
   "execution_count": 11,
   "metadata": {},
   "outputs": [
    {
     "name": "stdout",
     "output_type": "stream",
     "text": [
      "2020-04-03 01:00:00,677 Computing label dictionary. Progress:\n"
     ]
    },
    {
     "name": "stderr",
     "output_type": "stream",
     "text": [
      "100%|██████████| 6166/6166 [00:02<00:00, 2091.21it/s]"
     ]
    },
    {
     "name": "stdout",
     "output_type": "stream",
     "text": [
      "2020-04-03 01:00:03,758 [b'label', b'0', b'1']\n"
     ]
    },
    {
     "name": "stderr",
     "output_type": "stream",
     "text": [
      "\n"
     ]
    }
   ],
   "source": [
    "classifier = TextClassifier(DocumentRNNEmbeddings, label_dictionary=dataset.corpus.make_label_dictionary(),multi_label=False)"
   ]
  },
  {
   "cell_type": "code",
   "execution_count": 12,
   "metadata": {},
   "outputs": [
    {
     "data": {
      "text/plain": [
       "TextClassifier(\n",
       "  (document_embeddings): DocumentRNNEmbeddings(\n",
       "    (embeddings): StackedEmbeddings(\n",
       "      (list_embedding_0): WordEmbeddings('glove')\n",
       "    )\n",
       "    (word_reprojection_map): Linear(in_features=100, out_features=256, bias=True)\n",
       "    (rnn): GRU(256, 512, batch_first=True)\n",
       "    (dropout): Dropout(p=0.5, inplace=False)\n",
       "  )\n",
       "  (decoder): Linear(in_features=512, out_features=3, bias=True)\n",
       "  (loss_function): CrossEntropyLoss()\n",
       ")"
      ]
     },
     "execution_count": 12,
     "metadata": {},
     "output_type": "execute_result"
    }
   ],
   "source": [
    "classifier"
   ]
  },
  {
   "cell_type": "code",
   "execution_count": 13,
   "metadata": {},
   "outputs": [],
   "source": [
    "from flair.trainers import ModelTrainer\n",
    "# 6. initialize the text classifier trainer\n",
    "trainer = ModelTrainer(classifier, dataset.corpus)"
   ]
  },
  {
   "cell_type": "code",
   "execution_count": 14,
   "metadata": {},
   "outputs": [
    {
     "name": "stdout",
     "output_type": "stream",
     "text": [
      "2020-04-03 01:00:03,945 ----------------------------------------------------------------------------------------------------\n",
      "2020-04-03 01:00:03,949 Model: \"TextClassifier(\n",
      "  (document_embeddings): DocumentRNNEmbeddings(\n",
      "    (embeddings): StackedEmbeddings(\n",
      "      (list_embedding_0): WordEmbeddings('glove')\n",
      "    )\n",
      "    (word_reprojection_map): Linear(in_features=100, out_features=256, bias=True)\n",
      "    (rnn): GRU(256, 512, batch_first=True)\n",
      "    (dropout): Dropout(p=0.5, inplace=False)\n",
      "  )\n",
      "  (decoder): Linear(in_features=512, out_features=3, bias=True)\n",
      "  (loss_function): CrossEntropyLoss()\n",
      "  (beta): 1.0\n",
      "  (weights): None\n",
      "  (weight_tensor) None\n",
      ")\"\n",
      "2020-04-03 01:00:03,952 ----------------------------------------------------------------------------------------------------\n",
      "2020-04-03 01:00:03,960 Corpus: \"Corpus: 6166 train + 687 dev + 763 test sentences\"\n",
      "2020-04-03 01:00:03,965 ----------------------------------------------------------------------------------------------------\n",
      "2020-04-03 01:00:03,972 Parameters:\n",
      "2020-04-03 01:00:03,982  - learning_rate: \"0.1\"\n",
      "2020-04-03 01:00:03,986  - mini_batch_size: \"32\"\n",
      "2020-04-03 01:00:03,989  - patience: \"5\"\n",
      "2020-04-03 01:00:03,992  - anneal_factor: \"0.5\"\n",
      "2020-04-03 01:00:03,996  - max_epochs: \"1\"\n",
      "2020-04-03 01:00:03,998  - shuffle: \"True\"\n",
      "2020-04-03 01:00:04,002  - train_with_dev: \"False\"\n",
      "2020-04-03 01:00:04,007  - batch_growth_annealing: \"False\"\n",
      "2020-04-03 01:00:04,013 ----------------------------------------------------------------------------------------------------\n",
      "2020-04-03 01:00:04,016 Model training base path: \"../models/real_fake\"\n",
      "2020-04-03 01:00:04,036 ----------------------------------------------------------------------------------------------------\n",
      "2020-04-03 01:00:04,040 Device: cpu\n",
      "2020-04-03 01:00:04,046 ----------------------------------------------------------------------------------------------------\n",
      "2020-04-03 01:00:04,048 Embeddings storage mode: cpu\n",
      "2020-04-03 01:00:04,059 ----------------------------------------------------------------------------------------------------\n",
      "2020-04-03 01:00:08,532 epoch 1 - iter 19/193 - loss 0.76814257 - samples/sec: 148.65\n",
      "2020-04-03 01:00:12,510 epoch 1 - iter 38/193 - loss 0.73217272 - samples/sec: 155.73\n",
      "2020-04-03 01:00:16,544 epoch 1 - iter 57/193 - loss 0.74266686 - samples/sec: 154.21\n",
      "2020-04-03 01:00:20,806 epoch 1 - iter 76/193 - loss 0.72377713 - samples/sec: 144.27\n",
      "2020-04-03 01:00:25,114 epoch 1 - iter 95/193 - loss 0.71556911 - samples/sec: 150.71\n",
      "2020-04-03 01:00:28,834 epoch 1 - iter 114/193 - loss 0.70700880 - samples/sec: 165.63\n",
      "2020-04-03 01:00:32,563 epoch 1 - iter 133/193 - loss 0.70565217 - samples/sec: 165.44\n",
      "2020-04-03 01:00:36,425 epoch 1 - iter 152/193 - loss 0.69501243 - samples/sec: 169.30\n",
      "2020-04-03 01:00:40,120 epoch 1 - iter 171/193 - loss 0.68821270 - samples/sec: 166.92\n",
      "2020-04-03 01:00:43,652 epoch 1 - iter 190/193 - loss 0.68525658 - samples/sec: 174.86\n",
      "2020-04-03 01:00:44,192 ----------------------------------------------------------------------------------------------------\n",
      "2020-04-03 01:00:44,193 EPOCH 1 done: loss 0.6839 - lr 0.1000\n",
      "2020-04-03 01:00:45,246 DEV : loss 0.6530659198760986 - score 0.6186\n",
      "2020-04-03 01:00:45,656 BAD EPOCHS (no improvement): 0\n",
      "2020-04-03 01:00:55,556 ----------------------------------------------------------------------------------------------------\n",
      "2020-04-03 01:00:55,559 Testing using best model ...\n",
      "2020-04-03 01:00:55,563 loading file ../models/real_fake/best-model.pt\n",
      "2020-04-03 01:00:57,867 0.6317\t0.6317\t0.6317\n",
      "2020-04-03 01:00:57,869 \n",
      "MICRO_AVG: acc 0.4617 - f1-score 0.6317\n",
      "MACRO_AVG: acc 0.2595 - f1-score 0.35106666666666664\n",
      "0          tp: 421 - fp: 267 - fn: 14 - tn: 61 - precision: 0.6119 - recall: 0.9678 - accuracy: 0.5997 - f1-score: 0.7498\n",
      "1          tp: 61 - fp: 14 - fn: 266 - tn: 422 - precision: 0.8133 - recall: 0.1865 - accuracy: 0.1789 - f1-score: 0.3034\n",
      "label      tp: 0 - fp: 0 - fn: 1 - tn: 762 - precision: 0.0000 - recall: 0.0000 - accuracy: 0.0000 - f1-score: 0.0000\n",
      "2020-04-03 01:00:57,869 ----------------------------------------------------------------------------------------------------\n",
      "Weights plots are saved in ../models/real_fake/weights.png\n"
     ]
    },
    {
     "data": {
      "image/png": "[encoded data removed]",
      "text/plain": [
       "<Figure size 576x288 with 8 Axes>"
      ]
     },
     "metadata": {},
     "output_type": "display_data"
    }
   ],
   "source": [
    "# 7. start the training\n",
    "trainer.train('../models/real_fake',\n",
    "              learning_rate=0.1,\n",
    "              mini_batch_size=32,\n",
    "              anneal_factor=0.5,\n",
    "              patience=5,\n",
    "              max_epochs=1)\n",
    "\n",
    "# 8. plot weight traces (optional)\n",
    "from flair.visual.training_curves import Plotter\n",
    "plotter = Plotter()\n",
    "plotter.plot_weights('../models/real_fake/weights.txt')"
   ]
  },
  {
   "cell_type": "code",
   "execution_count": 15,
   "metadata": {},
   "outputs": [
    {
     "data": {
      "text/html": [
       "<div>\n",
       "<style scoped>\n",
       "    .dataframe tbody tr th:only-of-type {\n",
       "        vertical-align: middle;\n",
       "    }\n",
       "\n",
       "    .dataframe tbody tr th {\n",
       "        vertical-align: top;\n",
       "    }\n",
       "\n",
       "    .dataframe thead th {\n",
       "        text-align: right;\n",
       "    }\n",
       "</style>\n",
       "<table border=\"1\" class=\"dataframe\">\n",
       "  <thead>\n",
       "    <tr style=\"text-align: right;\">\n",
       "      <th></th>\n",
       "      <th>id</th>\n",
       "      <th>keyword</th>\n",
       "      <th>location</th>\n",
       "      <th>text</th>\n",
       "      <th>label</th>\n",
       "    </tr>\n",
       "  </thead>\n",
       "  <tbody>\n",
       "    <tr>\n",
       "      <th>6037</th>\n",
       "      <td>8628</td>\n",
       "      <td>seismic</td>\n",
       "      <td>412 NW 5th Ave. Portland OR</td>\n",
       "      <td>Still no plans? Don't worry we got you covered...</td>\n",
       "      <td>0</td>\n",
       "    </tr>\n",
       "    <tr>\n",
       "      <th>1800</th>\n",
       "      <td>2587</td>\n",
       "      <td>crash</td>\n",
       "      <td>NaN</td>\n",
       "      <td>??One night and we're gonna come and crash the...</td>\n",
       "      <td>0</td>\n",
       "    </tr>\n",
       "    <tr>\n",
       "      <th>5401</th>\n",
       "      <td>7707</td>\n",
       "      <td>panicking</td>\n",
       "      <td>Oxford / bristol</td>\n",
       "      <td>Okay NOW I AM PANICKING</td>\n",
       "      <td>0</td>\n",
       "    </tr>\n",
       "    <tr>\n",
       "      <th>3171</th>\n",
       "      <td>4550</td>\n",
       "      <td>emergency%20plan</td>\n",
       "      <td>Alexandria, VA, USA</td>\n",
       "      <td>See Aug 4 2015 PoconoRecord @EmergencyMgtMag -...</td>\n",
       "      <td>1</td>\n",
       "    </tr>\n",
       "    <tr>\n",
       "      <th>1162</th>\n",
       "      <td>1673</td>\n",
       "      <td>bridge%20collapse</td>\n",
       "      <td>NaN</td>\n",
       "      <td>Australia's Ashes disaster - how the collapse ...</td>\n",
       "      <td>1</td>\n",
       "    </tr>\n",
       "    <tr>\n",
       "      <th>...</th>\n",
       "      <td>...</td>\n",
       "      <td>...</td>\n",
       "      <td>...</td>\n",
       "      <td>...</td>\n",
       "      <td>...</td>\n",
       "    </tr>\n",
       "    <tr>\n",
       "      <th>4291</th>\n",
       "      <td>6096</td>\n",
       "      <td>hellfire</td>\n",
       "      <td>NaN</td>\n",
       "      <td>Beware of your temper and a loose tongue! Thes...</td>\n",
       "      <td>0</td>\n",
       "    </tr>\n",
       "    <tr>\n",
       "      <th>140</th>\n",
       "      <td>201</td>\n",
       "      <td>airplane%20accident</td>\n",
       "      <td>NaN</td>\n",
       "      <td>@AlexAllTimeLow awwww they're on an airplane a...</td>\n",
       "      <td>1</td>\n",
       "    </tr>\n",
       "    <tr>\n",
       "      <th>1118</th>\n",
       "      <td>1613</td>\n",
       "      <td>bombed</td>\n",
       "      <td>NaN</td>\n",
       "      <td>@r_lauren83199 @xojademarie124 i hope you get ...</td>\n",
       "      <td>0</td>\n",
       "    </tr>\n",
       "    <tr>\n",
       "      <th>2544</th>\n",
       "      <td>3650</td>\n",
       "      <td>destroy</td>\n",
       "      <td>Virginia, USA</td>\n",
       "      <td>destroy the free fandom honestly</td>\n",
       "      <td>1</td>\n",
       "    </tr>\n",
       "    <tr>\n",
       "      <th>5251</th>\n",
       "      <td>7510</td>\n",
       "      <td>oil%20spill</td>\n",
       "      <td>California</td>\n",
       "      <td>Refugio oil spill may have been costlier bigge...</td>\n",
       "      <td>1</td>\n",
       "    </tr>\n",
       "  </tbody>\n",
       "</table>\n",
       "<p>686 rows × 5 columns</p>\n",
       "</div>"
      ],
      "text/plain": [
       "        id              keyword                     location  \\\n",
       "6037  8628              seismic  412 NW 5th Ave. Portland OR   \n",
       "1800  2587                crash                          NaN   \n",
       "5401  7707            panicking             Oxford / bristol   \n",
       "3171  4550     emergency%20plan          Alexandria, VA, USA   \n",
       "1162  1673    bridge%20collapse                          NaN   \n",
       "...    ...                  ...                          ...   \n",
       "4291  6096             hellfire                          NaN   \n",
       "140    201  airplane%20accident                          NaN   \n",
       "1118  1613               bombed                          NaN   \n",
       "2544  3650              destroy                Virginia, USA   \n",
       "5251  7510          oil%20spill                   California   \n",
       "\n",
       "                                                   text  label  \n",
       "6037  Still no plans? Don't worry we got you covered...      0  \n",
       "1800  ??One night and we're gonna come and crash the...      0  \n",
       "5401                            Okay NOW I AM PANICKING      0  \n",
       "3171  See Aug 4 2015 PoconoRecord @EmergencyMgtMag -...      1  \n",
       "1162  Australia's Ashes disaster - how the collapse ...      1  \n",
       "...                                                 ...    ...  \n",
       "4291  Beware of your temper and a loose tongue! Thes...      0  \n",
       "140   @AlexAllTimeLow awwww they're on an airplane a...      1  \n",
       "1118  @r_lauren83199 @xojademarie124 i hope you get ...      0  \n",
       "2544                   destroy the free fandom honestly      1  \n",
       "5251  Refugio oil spill may have been costlier bigge...      1  \n",
       "\n",
       "[686 rows x 5 columns]"
      ]
     },
     "execution_count": 15,
     "metadata": {},
     "output_type": "execute_result"
    }
   ],
   "source": [
    "dataset.valid_data"
   ]
  },
  {
   "cell_type": "code",
   "execution_count": 16,
   "metadata": {},
   "outputs": [
    {
     "name": "stdout",
     "output_type": "stream",
     "text": [
      "2020-04-03 01:00:58,830 loading file ../models/real_fake/final-model.pt\n"
     ]
    }
   ],
   "source": [
    "from flair.data import Sentence\n",
    "classifier = TextClassifier.load('../models/real_fake/final-model.pt')\n",
    "\n",
    "# create sentence from valid dataset\n",
    "sentences = [Sentence(sent, use_tokenizer=True) for sent in dataset.valid_data.text.to_list()]\n",
    "\n",
    "# predict class and print\n",
    "sentences = classifier.predict(sentences)"
   ]
  },
  {
   "cell_type": "code",
   "execution_count": 17,
   "metadata": {},
   "outputs": [],
   "source": [
    "predictions = [(int(str(i[0]).split(\" \")[0])) for i in [sentences[i].labels for i in range(0,len(sentences))]]\n",
    "predictions_prob = [float(str(i[0]).split(\" \")[1].strip(\"(\").strip(\")\")) for i in [sentences[i].labels for i in range(0,len(sentences))]]"
   ]
  },
  {
   "cell_type": "code",
   "execution_count": 18,
   "metadata": {},
   "outputs": [],
   "source": [
    "import matplotlib.pyplot as plt\n",
    "import seaborn as sns\n",
    "def plot_cm(y_true, y_pred, title, figsize=(5,5)):\n",
    "    cm = confusion_matrix(y_true, y_pred, labels=np.unique(y_true))\n",
    "    cm_sum = np.sum(cm, axis=1, keepdims=True)\n",
    "    cm_perc = cm / cm_sum.astype(float) * 100\n",
    "    annot = np.empty_like(cm).astype(str)\n",
    "    nrows, ncols = cm.shape\n",
    "    for i in range(nrows):\n",
    "        for j in range(ncols):\n",
    "            c = cm[i, j]\n",
    "            p = cm_perc[i, j]\n",
    "            if i == j:\n",
    "                s = cm_sum[i]\n",
    "                annot[i, j] = '%.1f%%\\n%d/%d' % (p, c, s)\n",
    "            elif c == 0:\n",
    "                annot[i, j] = ''\n",
    "            else:\n",
    "                annot[i, j] = '%.1f%%\\n%d' % (p, c)\n",
    "    cm = pd.DataFrame(cm, index=np.unique(y_true), columns=np.unique(y_true))\n",
    "    cm.index.name = 'Actual'\n",
    "    cm.columns.name = 'Predicted'\n",
    "    fig, ax = plt.subplots(figsize=figsize)\n",
    "    plt.title(title)\n",
    "    sns.heatmap(cm, annot=annot, fmt='', ax=ax)"
   ]
  },
  {
   "cell_type": "code",
   "execution_count": 19,
   "metadata": {},
   "outputs": [
    {
     "data": {
      "image/png": "[encoded data removed]",
      "text/plain": [
       "<Figure size 504x504 with 2 Axes>"
      ]
     },
     "metadata": {
      "needs_background": "light"
     },
     "output_type": "display_data"
    }
   ],
   "source": [
    "plot_cm(dataset.valid_data.label,predictions, 'Confusion matrix for BERT model', figsize=(7,7))"
   ]
  }
 ],
 "metadata": {
  "kernelspec": {
   "display_name": "Python 3",
   "language": "python",
   "name": "python3"
  },
  "language_info": {
   "codemirror_mode": {
    "name": "ipython",
    "version": 3
   },
   "file_extension": ".py",
   "mimetype": "text/x-python",
   "name": "python",
   "nbconvert_exporter": "python",
   "pygments_lexer": "ipython3",
   "version": "3.6.9"
  },
  "toc": {
   "base_numbering": 1,
   "nav_menu": {},
   "number_sections": true,
   "sideBar": true,
   "skip_h1_title": false,
   "title_cell": "Table of Contents",
   "title_sidebar": "Contents",
   "toc_cell": false,
   "toc_position": {},
   "toc_section_display": true,
   "toc_window_display": false
  }
 },
 "nbformat": 4,
 "nbformat_minor": 4
}
