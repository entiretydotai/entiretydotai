{
 "cells": [
  {
   "cell_type": "code",
   "execution_count": 1,
   "metadata": {},
   "outputs": [],
   "source": [
    "import sys\n",
    "sys.path.append(\"..\")"
   ]
  },
  {
   "cell_type": "code",
   "execution_count": 2,
   "metadata": {},
   "outputs": [],
   "source": [
    "from src import FlairDataset"
   ]
  },
  {
   "cell_type": "code",
   "execution_count": 3,
   "metadata": {},
   "outputs": [],
   "source": [
    "path = \"../data/external/real_fake_disaster/\""
   ]
  },
  {
   "cell_type": "code",
   "execution_count": 4,
   "metadata": {},
   "outputs": [
    {
     "name": "stdout",
     "output_type": "stream",
     "text": [
      "2020-03-24 02:42:36,778 entiretydotai DEBUG Found directory : /home/uv/Documents/meetup(in_progress)/entiretydotai/data/external/real_fake_disaster\n",
      "2020-03-24 02:42:36,779 entiretydotai DEBUG Number of files found 1\n",
      "2020-03-24 02:42:36,780 entiretydotai DEBUG Found 1 file : data.csv\n",
      "2020-03-24 02:42:36,780 entiretydotai DEBUG Setting train_val_test_split_flag to True\n",
      "2020-03-24 02:42:36,781 entiretydotai DEBUG [sel_column_label] : Ran with args: (PosixPath('/home/uv/Documents/meetup(in_progress)/entiretydotai/data/external/real_fake_disaster/data.csv'), ['text', 'label'], ['text', 'label']), and kwargs: {}\n",
      "2020-03-24 02:42:36,802 entiretydotai DEBUG [sel_column_label] ran in: 0.019963741302490234 sec\n",
      "2020-03-24 02:42:36,803 entiretydotai DEBUG [column_name_map] {3: 'text', 4: 'label'}\n",
      "2020-03-24 02:42:36,813 entiretydotai DEBUG NUmber of rows in the dataset: 7613\n",
      "2020-03-24 02:42:36,814 entiretydotai DEBUG Index(['id', 'keyword', 'location', 'text', 'label'], dtype='object')\n",
      "2020-03-24 02:42:36,815 entiretydotai DEBUG NUmber of rows in train dataset: 6165\n",
      "2020-03-24 02:42:36,815 entiretydotai DEBUG NUmber of rows in valid dataset: 686\n",
      "2020-03-24 02:42:36,816 entiretydotai DEBUG NUmber of rows in test dataset: 762\n",
      "2020-03-24 02:42:36,817 entiretydotai DEBUG [train_val_test_split] ran in: 0.014204740524291992 sec\n",
      "2020-03-24 02:42:36,855 entiretydotai DEBUG Successfully saved train at : /home/uv/Documents/meetup(in_progress)/entiretydotai/data/interim\n",
      "2020-03-24 02:42:36,856 entiretydotai DEBUG [save_csv] ran in: 0.0374760627746582 sec\n",
      "2020-03-24 02:42:36,862 entiretydotai DEBUG Successfully saved valid at : /home/uv/Documents/meetup(in_progress)/entiretydotai/data/interim\n",
      "2020-03-24 02:42:36,864 entiretydotai DEBUG [save_csv] ran in: 0.007515430450439453 sec\n",
      "2020-03-24 02:42:36,871 entiretydotai DEBUG Successfully saved test at : /home/uv/Documents/meetup(in_progress)/entiretydotai/data/interim\n",
      "2020-03-24 02:42:36,872 entiretydotai DEBUG [save_csv] ran in: 0.006764650344848633 sec\n",
      "2020-03-24 02:42:36,872 entiretydotai DEBUG Loading data in Flair CSVClassificationCorpus from path :/home/uv/Documents/meetup(in_progress)/entiretydotai/data/interim\n",
      "2020-03-24 02:42:36,873 Reading data from /home/uv/Documents/meetup(in_progress)/entiretydotai/data/interim\n",
      "2020-03-24 02:42:36,873 Train: /home/uv/Documents/meetup(in_progress)/entiretydotai/data/interim/train.csv\n",
      "2020-03-24 02:42:36,874 Dev: /home/uv/Documents/meetup(in_progress)/entiretydotai/data/interim/valid.csv\n",
      "2020-03-24 02:42:36,876 Test: /home/uv/Documents/meetup(in_progress)/entiretydotai/data/interim/test.csv\n",
      "2020-03-24 02:42:36,913 entiretydotai DEBUG Number of Sentences loaded[Train]:6166\n",
      "2020-03-24 02:42:36,914 entiretydotai DEBUG Type of tokenizer:segtok_tokenizer\n",
      "2020-03-24 02:42:36,917 entiretydotai DEBUG Sample sentence and Label from [Train]:Sentence: \"@ AshGhebranious civil rights continued in the 60s . And what about trans-generational trauma ? if anything we should listen to the Americans .\" - 24 Tokens - Labels: [0 (1.0)] \n",
      "\n",
      "2020-03-24 02:42:36,918 entiretydotai DEBUG Number of Sentences loaded[Valid]:687\n",
      "2020-03-24 02:42:36,918 entiretydotai DEBUG Type of tokenizer:segtok_tokenizer\n",
      "2020-03-24 02:42:36,920 entiretydotai DEBUG Sample sentence and Label from [Train]:Sentence: \"Still no plans ? Do n't worry we got you covered . Plenty of Seismic IPA and Seismic Squeeze Radler to help ... http :// t.co / A8nMdkd3rV\" - 28 Tokens - Labels: [0 (1.0)] \n",
      "\n",
      "2020-03-24 02:42:36,921 entiretydotai DEBUG Number of Sentences loaded[Test]:763\n",
      "2020-03-24 02:42:36,921 entiretydotai DEBUG Type of tokenizer:segtok_tokenizer\n",
      "2020-03-24 02:42:36,923 entiretydotai DEBUG Sample sentence and Label from [Train]:Sentence: \"300000 Dead 1200000 injured 11000000 Displaced this is # Syria 2015 visit http :// t.co / prCI76hOwu # US # Canada http :// t.co / rTCuFaG0au\" - 26 Tokens - Labels: [1 (1.0)] \n",
      "\n"
     ]
    },
    {
     "data": {
      "text/plain": [
       "<src.data.nlp_dataset.FlairDataset at 0x7fac2dd00fd0>"
      ]
     },
     "execution_count": 4,
     "metadata": {},
     "output_type": "execute_result"
    }
   ],
   "source": [
    "FlairDataset.csv_classification(data_folder=path,filename='data',column_mapping=['text','label'])"
   ]
  }
 ],
 "metadata": {
  "kernelspec": {
   "display_name": "Python 3",
   "language": "python",
   "name": "python3"
  },
  "language_info": {
   "codemirror_mode": {
    "name": "ipython",
    "version": 3
   },
   "file_extension": ".py",
   "mimetype": "text/x-python",
   "name": "python",
   "nbconvert_exporter": "python",
   "pygments_lexer": "ipython3",
   "version": "3.6.9"
  },
  "toc": {
   "base_numbering": 1,
   "nav_menu": {},
   "number_sections": true,
   "sideBar": true,
   "skip_h1_title": false,
   "title_cell": "Table of Contents",
   "title_sidebar": "Contents",
   "toc_cell": false,
   "toc_position": {},
   "toc_section_display": true,
   "toc_window_display": false
  }
 },
 "nbformat": 4,
 "nbformat_minor": 4
}
