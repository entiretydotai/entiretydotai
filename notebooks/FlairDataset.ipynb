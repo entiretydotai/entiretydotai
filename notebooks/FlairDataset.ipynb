{
 "cells": [
  {
   "cell_type": "code",
   "execution_count": 1,
   "metadata": {},
   "outputs": [],
   "source": [
    "import sys\n",
    "sys.path.append(\"..\")"
   ]
  },
  {
   "cell_type": "code",
   "execution_count": 2,
   "metadata": {},
   "outputs": [],
   "source": [
    "from src import FlairDataset"
   ]
  },
  {
   "cell_type": "code",
   "execution_count": 3,
   "metadata": {},
   "outputs": [],
   "source": [
    "path = \"../data/external/real_fake_disaster/\""
   ]
  },
  {
   "cell_type": "code",
   "execution_count": 4,
   "metadata": {},
   "outputs": [
    {
     "name": "stderr",
     "output_type": "stream",
     "text": [
      "2020-03-22 03:23:43,213:DEBUG:Found directory : /home/uv/Documents/meetup(in_progress)/entiretydotai/data/external/real_fake_disaster\n",
      "2020-03-22 03:23:43,218:DEBUG:Number of files found 1\n",
      "2020-03-22 03:23:43,220:DEBUG:Found 1 file : train.csv\n",
      "2020-03-22 03:23:43,222:DEBUG:Setting train_val_test_split_flag to True\n",
      "2020-03-22 03:23:43,226:DEBUG:Loading file of size: 987712 bytes\n",
      "2020-03-22 03:23:43,286:DEBUG:NUmber of rows in the dataset: 7613\n",
      "2020-03-22 03:23:43,287:DEBUG:NUmber of rows in train dataset: 6165\n",
      "2020-03-22 03:23:43,287:DEBUG:NUmber of rows in valid dataset: 686\n",
      "2020-03-22 03:23:43,289:DEBUG:NUmber of rows in test dataset: 762\n"
     ]
    },
    {
     "data": {
      "text/plain": [
       "<src.data.nlp_dataset.FlairDataset at 0x7fd2609bef98>"
      ]
     },
     "execution_count": 4,
     "metadata": {},
     "output_type": "execute_result"
    }
   ],
   "source": [
    "FlairDataset.load_for_classification(data_folder=path,filename='train')"
   ]
  }
 ],
 "metadata": {
  "kernelspec": {
   "display_name": "Python 3",
   "language": "python",
   "name": "python3"
  },
  "language_info": {
   "codemirror_mode": {
    "name": "ipython",
    "version": 3
   },
   "file_extension": ".py",
   "mimetype": "text/x-python",
   "name": "python",
   "nbconvert_exporter": "python",
   "pygments_lexer": "ipython3",
   "version": "3.6.9"
  },
  "toc": {
   "base_numbering": 1,
   "nav_menu": {},
   "number_sections": true,
   "sideBar": true,
   "skip_h1_title": false,
   "title_cell": "Table of Contents",
   "title_sidebar": "Contents",
   "toc_cell": false,
   "toc_position": {},
   "toc_section_display": true,
   "toc_window_display": false
  }
 },
 "nbformat": 4,
 "nbformat_minor": 4
}
